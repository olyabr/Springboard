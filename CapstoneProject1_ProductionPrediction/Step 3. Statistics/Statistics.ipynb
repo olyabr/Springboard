{
 "cells": [
  {
   "cell_type": "code",
   "execution_count": 32,
   "metadata": {},
   "outputs": [],
   "source": [
    "#importing nesessary libraries\n",
    "import pandas as pd\n",
    "import matplotlib.pyplot as plt\n",
    "import numpy as np\n",
    "import math\n",
    "from statsmodels.distributions.empirical_distribution import ECDF\n",
    "from datetime import date\n",
    "import seaborn as sns\n",
    "from scipy.stats import pearsonr"
   ]
  },
  {
   "cell_type": "code",
   "execution_count": 12,
   "metadata": {},
   "outputs": [],
   "source": [
    "def bootstrap_replicate_1d(data, func):\n",
    "    \"\"\"Generate bootstrap replicate of 1D data.\"\"\"\n",
    "    bs_sample = np.random.choice(data, len(data))\n",
    "    return func(bs_sample)"
   ]
  },
  {
   "cell_type": "code",
   "execution_count": 13,
   "metadata": {},
   "outputs": [],
   "source": [
    "def draw_bs_reps(data, func, size=1):\n",
    "    \"\"\"Draw bootstrap replicates.\"\"\"\n",
    "\n",
    "    # Initialize array of replicates: bs_replicates\n",
    "    bs_replicates = np.empty(size)\n",
    "\n",
    "    # Generate replicates\n",
    "    for i in range(size):\n",
    "        bs_replicates[i] = bootstrap_replicate_1d(data, func)\n",
    "\n",
    "    return bs_replicates"
   ]
  },
  {
   "cell_type": "code",
   "execution_count": 26,
   "metadata": {},
   "outputs": [],
   "source": [
    "def draw_bs_pairs_linreg(x, y, size=1):\n",
    "    \"\"\"Perform pairs bootstrap for linear regression.\"\"\"\n",
    "\n",
    "    # Set up array of indices to sample from: inds\n",
    "    inds = np.arange(0,len(x))\n",
    "\n",
    "    # Initialize replicates: bs_slope_reps, bs_intercept_reps\n",
    "    bs_slope_reps = np.empty(size)\n",
    "    bs_intercept_reps = np.empty(size)\n",
    "\n",
    "    # Generate replicates\n",
    "    for i in range(size):\n",
    "        bs_inds = np.random.choice(inds, size=len(inds))\n",
    "        bs_x, bs_y = x[bs_inds], y[bs_inds]\n",
    "        bs_slope_reps[i], bs_intercept_reps[i] = np.polyfit(bs_x, bs_y,1)\n",
    "\n",
    "    return bs_slope_reps, bs_intercept_reps\n"
   ]
  },
  {
   "cell_type": "code",
   "execution_count": 3,
   "metadata": {
    "scrolled": false
   },
   "outputs": [
    {
     "name": "stdout",
     "output_type": "stream",
     "text": [
      "<class 'pandas.core.frame.DataFrame'>\n",
      "RangeIndex: 291495 entries, 0 to 291494\n",
      "Data columns (total 12 columns):\n",
      " #   Column         Non-Null Count   Dtype         \n",
      "---  ------         --------------   -----         \n",
      " 0   API            291495 non-null  int64         \n",
      " 1   Pool_Nm        291495 non-null  object        \n",
      " 2   RPT_DATE       291495 non-null  datetime64[ns]\n",
      " 3   DAYS_PROD      291495 non-null  int64         \n",
      " 4   BBLS_OIL_COND  291495 non-null  int64         \n",
      " 5   OIL_RUNS       291495 non-null  int64         \n",
      " 6   BBLS_WTR       291495 non-null  int64         \n",
      " 7   MCF_GAS        291495 non-null  int64         \n",
      " 8   MCF_SOLD       291495 non-null  int64         \n",
      " 9   FLARED         291495 non-null  int64         \n",
      " 10  VENTED         291495 non-null  int64         \n",
      " 11  Dt_Treat       291495 non-null  datetime64[ns]\n",
      "dtypes: datetime64[ns](2), int64(9), object(1)\n",
      "memory usage: 26.7+ MB\n"
     ]
    }
   ],
   "source": [
    "#reading input dataset from csv to dataframe\n",
    "df = pd.read_csv('..\\Step 1. Data Wrangling\\monthly-production.csv')\n",
    "df[['RPT_DATE','Dt_Treat']] = df[['RPT_DATE','Dt_Treat']].astype('datetime64')\n",
    "df.info()"
   ]
  },
  {
   "cell_type": "code",
   "execution_count": 4,
   "metadata": {},
   "outputs": [
    {
     "data": {
      "text/html": [
       "<div>\n",
       "<style scoped>\n",
       "    .dataframe tbody tr th:only-of-type {\n",
       "        vertical-align: middle;\n",
       "    }\n",
       "\n",
       "    .dataframe tbody tr th {\n",
       "        vertical-align: top;\n",
       "    }\n",
       "\n",
       "    .dataframe thead th {\n",
       "        text-align: right;\n",
       "    }\n",
       "</style>\n",
       "<table border=\"1\" class=\"dataframe\">\n",
       "  <thead>\n",
       "    <tr style=\"text-align: right;\">\n",
       "      <th></th>\n",
       "      <th>API</th>\n",
       "      <th>Pool_Nm</th>\n",
       "      <th>RPT_DATE</th>\n",
       "      <th>DAYS_PROD</th>\n",
       "      <th>BBLS_OIL_COND</th>\n",
       "      <th>OIL_RUNS</th>\n",
       "      <th>BBLS_WTR</th>\n",
       "      <th>MCF_GAS</th>\n",
       "      <th>MCF_SOLD</th>\n",
       "      <th>FLARED</th>\n",
       "      <th>VENTED</th>\n",
       "      <th>Dt_Treat</th>\n",
       "    </tr>\n",
       "  </thead>\n",
       "  <tbody>\n",
       "    <tr>\n",
       "      <th>0</th>\n",
       "      <td>33007001030000</td>\n",
       "      <td>MADISON</td>\n",
       "      <td>2009-01-01</td>\n",
       "      <td>31</td>\n",
       "      <td>705</td>\n",
       "      <td>704</td>\n",
       "      <td>5206</td>\n",
       "      <td>51</td>\n",
       "      <td>24</td>\n",
       "      <td>0</td>\n",
       "      <td>0</td>\n",
       "      <td>2010-12-16</td>\n",
       "    </tr>\n",
       "    <tr>\n",
       "      <th>1</th>\n",
       "      <td>33007001030000</td>\n",
       "      <td>MADISON</td>\n",
       "      <td>2009-02-01</td>\n",
       "      <td>28</td>\n",
       "      <td>597</td>\n",
       "      <td>597</td>\n",
       "      <td>4603</td>\n",
       "      <td>46</td>\n",
       "      <td>25</td>\n",
       "      <td>0</td>\n",
       "      <td>0</td>\n",
       "      <td>2010-12-16</td>\n",
       "    </tr>\n",
       "    <tr>\n",
       "      <th>2</th>\n",
       "      <td>33007001030000</td>\n",
       "      <td>MADISON</td>\n",
       "      <td>2009-03-01</td>\n",
       "      <td>31</td>\n",
       "      <td>701</td>\n",
       "      <td>704</td>\n",
       "      <td>5014</td>\n",
       "      <td>61</td>\n",
       "      <td>33</td>\n",
       "      <td>0</td>\n",
       "      <td>0</td>\n",
       "      <td>2010-12-16</td>\n",
       "    </tr>\n",
       "    <tr>\n",
       "      <th>3</th>\n",
       "      <td>33007001030000</td>\n",
       "      <td>MADISON</td>\n",
       "      <td>2009-04-01</td>\n",
       "      <td>30</td>\n",
       "      <td>690</td>\n",
       "      <td>687</td>\n",
       "      <td>4853</td>\n",
       "      <td>65</td>\n",
       "      <td>37</td>\n",
       "      <td>0</td>\n",
       "      <td>0</td>\n",
       "      <td>2010-12-16</td>\n",
       "    </tr>\n",
       "    <tr>\n",
       "      <th>4</th>\n",
       "      <td>33007001030000</td>\n",
       "      <td>MADISON</td>\n",
       "      <td>2009-05-01</td>\n",
       "      <td>31</td>\n",
       "      <td>734</td>\n",
       "      <td>736</td>\n",
       "      <td>5116</td>\n",
       "      <td>58</td>\n",
       "      <td>32</td>\n",
       "      <td>0</td>\n",
       "      <td>0</td>\n",
       "      <td>2010-12-16</td>\n",
       "    </tr>\n",
       "    <tr>\n",
       "      <th>...</th>\n",
       "      <td>...</td>\n",
       "      <td>...</td>\n",
       "      <td>...</td>\n",
       "      <td>...</td>\n",
       "      <td>...</td>\n",
       "      <td>...</td>\n",
       "      <td>...</td>\n",
       "      <td>...</td>\n",
       "      <td>...</td>\n",
       "      <td>...</td>\n",
       "      <td>...</td>\n",
       "      <td>...</td>\n",
       "    </tr>\n",
       "    <tr>\n",
       "      <th>291490</th>\n",
       "      <td>33105036600000</td>\n",
       "      <td>BAKKEN</td>\n",
       "      <td>2015-02-01</td>\n",
       "      <td>28</td>\n",
       "      <td>10270</td>\n",
       "      <td>10197</td>\n",
       "      <td>9011</td>\n",
       "      <td>11216</td>\n",
       "      <td>0</td>\n",
       "      <td>11216</td>\n",
       "      <td>0</td>\n",
       "      <td>2014-11-19</td>\n",
       "    </tr>\n",
       "    <tr>\n",
       "      <th>291491</th>\n",
       "      <td>33105036750000</td>\n",
       "      <td>BAKKEN</td>\n",
       "      <td>2014-11-01</td>\n",
       "      <td>0</td>\n",
       "      <td>0</td>\n",
       "      <td>0</td>\n",
       "      <td>0</td>\n",
       "      <td>0</td>\n",
       "      <td>0</td>\n",
       "      <td>0</td>\n",
       "      <td>0</td>\n",
       "      <td>2014-11-11</td>\n",
       "    </tr>\n",
       "    <tr>\n",
       "      <th>291492</th>\n",
       "      <td>33105036750000</td>\n",
       "      <td>BAKKEN</td>\n",
       "      <td>2014-12-01</td>\n",
       "      <td>23</td>\n",
       "      <td>5690</td>\n",
       "      <td>5231</td>\n",
       "      <td>26625</td>\n",
       "      <td>8492</td>\n",
       "      <td>0</td>\n",
       "      <td>8492</td>\n",
       "      <td>0</td>\n",
       "      <td>2014-11-11</td>\n",
       "    </tr>\n",
       "    <tr>\n",
       "      <th>291493</th>\n",
       "      <td>33105036750000</td>\n",
       "      <td>BAKKEN</td>\n",
       "      <td>2015-01-01</td>\n",
       "      <td>27</td>\n",
       "      <td>9275</td>\n",
       "      <td>9602</td>\n",
       "      <td>14695</td>\n",
       "      <td>11213</td>\n",
       "      <td>0</td>\n",
       "      <td>11213</td>\n",
       "      <td>0</td>\n",
       "      <td>2014-11-11</td>\n",
       "    </tr>\n",
       "    <tr>\n",
       "      <th>291494</th>\n",
       "      <td>33105036750000</td>\n",
       "      <td>BAKKEN</td>\n",
       "      <td>2015-02-01</td>\n",
       "      <td>13</td>\n",
       "      <td>5926</td>\n",
       "      <td>5625</td>\n",
       "      <td>8107</td>\n",
       "      <td>3939</td>\n",
       "      <td>0</td>\n",
       "      <td>3939</td>\n",
       "      <td>0</td>\n",
       "      <td>2014-11-11</td>\n",
       "    </tr>\n",
       "  </tbody>\n",
       "</table>\n",
       "<p>291495 rows × 12 columns</p>\n",
       "</div>"
      ],
      "text/plain": [
       "                   API  Pool_Nm   RPT_DATE  DAYS_PROD  BBLS_OIL_COND  \\\n",
       "0       33007001030000  MADISON 2009-01-01         31            705   \n",
       "1       33007001030000  MADISON 2009-02-01         28            597   \n",
       "2       33007001030000  MADISON 2009-03-01         31            701   \n",
       "3       33007001030000  MADISON 2009-04-01         30            690   \n",
       "4       33007001030000  MADISON 2009-05-01         31            734   \n",
       "...                ...      ...        ...        ...            ...   \n",
       "291490  33105036600000   BAKKEN 2015-02-01         28          10270   \n",
       "291491  33105036750000   BAKKEN 2014-11-01          0              0   \n",
       "291492  33105036750000   BAKKEN 2014-12-01         23           5690   \n",
       "291493  33105036750000   BAKKEN 2015-01-01         27           9275   \n",
       "291494  33105036750000   BAKKEN 2015-02-01         13           5926   \n",
       "\n",
       "        OIL_RUNS  BBLS_WTR  MCF_GAS  MCF_SOLD  FLARED  VENTED   Dt_Treat  \n",
       "0            704      5206       51        24       0       0 2010-12-16  \n",
       "1            597      4603       46        25       0       0 2010-12-16  \n",
       "2            704      5014       61        33       0       0 2010-12-16  \n",
       "3            687      4853       65        37       0       0 2010-12-16  \n",
       "4            736      5116       58        32       0       0 2010-12-16  \n",
       "...          ...       ...      ...       ...     ...     ...        ...  \n",
       "291490     10197      9011    11216         0   11216       0 2014-11-19  \n",
       "291491         0         0        0         0       0       0 2014-11-11  \n",
       "291492      5231     26625     8492         0    8492       0 2014-11-11  \n",
       "291493      9602     14695    11213         0   11213       0 2014-11-11  \n",
       "291494      5625      8107     3939         0    3939       0 2014-11-11  \n",
       "\n",
       "[291495 rows x 12 columns]"
      ]
     },
     "execution_count": 4,
     "metadata": {},
     "output_type": "execute_result"
    }
   ],
   "source": [
    "df"
   ]
  },
  {
   "cell_type": "code",
   "execution_count": 5,
   "metadata": {},
   "outputs": [
    {
     "data": {
      "text/html": [
       "<div>\n",
       "<style scoped>\n",
       "    .dataframe tbody tr th:only-of-type {\n",
       "        vertical-align: middle;\n",
       "    }\n",
       "\n",
       "    .dataframe tbody tr th {\n",
       "        vertical-align: top;\n",
       "    }\n",
       "\n",
       "    .dataframe thead th {\n",
       "        text-align: right;\n",
       "    }\n",
       "</style>\n",
       "<table border=\"1\" class=\"dataframe\">\n",
       "  <thead>\n",
       "    <tr style=\"text-align: right;\">\n",
       "      <th></th>\n",
       "      <th>Unnamed: 0</th>\n",
       "      <th>api</th>\n",
       "      <th>bottom</th>\n",
       "      <th>fluid_bbl</th>\n",
       "      <th>fluid_bbl_per_ft</th>\n",
       "      <th>fluid_gal</th>\n",
       "      <th>fluid_gal_per_ft</th>\n",
       "      <th>ft_per_stage</th>\n",
       "      <th>lateral_length</th>\n",
       "      <th>max_treat_press</th>\n",
       "      <th>...</th>\n",
       "      <th>Footages</th>\n",
       "      <th>Field_Name</th>\n",
       "      <th>Produced_Pools</th>\n",
       "      <th>Wellbore</th>\n",
       "      <th>Latitude</th>\n",
       "      <th>Longitude</th>\n",
       "      <th>Well_Type</th>\n",
       "      <th>Well_Status</th>\n",
       "      <th>CTB</th>\n",
       "      <th>Well_Status_Date</th>\n",
       "    </tr>\n",
       "  </thead>\n",
       "  <tbody>\n",
       "    <tr>\n",
       "      <th>0</th>\n",
       "      <td>0</td>\n",
       "      <td>33007015830000</td>\n",
       "      <td>9441</td>\n",
       "      <td>47</td>\n",
       "      <td>1</td>\n",
       "      <td>1998</td>\n",
       "      <td>46</td>\n",
       "      <td>43</td>\n",
       "      <td>43</td>\n",
       "      <td>0</td>\n",
       "      <td>...</td>\n",
       "      <td>906 FSL  1197 FEL</td>\n",
       "      <td>BIG STICK</td>\n",
       "      <td>MADISON</td>\n",
       "      <td>DIRECTIONAL</td>\n",
       "      <td>47.112737</td>\n",
       "      <td>-103.418030</td>\n",
       "      <td>OG</td>\n",
       "      <td>A</td>\n",
       "      <td>406270.0</td>\n",
       "      <td>2010-05-26</td>\n",
       "    </tr>\n",
       "    <tr>\n",
       "      <th>1</th>\n",
       "      <td>1</td>\n",
       "      <td>33007016320000</td>\n",
       "      <td>20810</td>\n",
       "      <td>57661</td>\n",
       "      <td>6</td>\n",
       "      <td>2421762</td>\n",
       "      <td>252</td>\n",
       "      <td>319</td>\n",
       "      <td>9586</td>\n",
       "      <td>8461</td>\n",
       "      <td>...</td>\n",
       "      <td>2400 FSL  300 FEL</td>\n",
       "      <td>ST. DEMETRIUS</td>\n",
       "      <td>BAKKEN</td>\n",
       "      <td>HORIZONTAL</td>\n",
       "      <td>47.088015</td>\n",
       "      <td>-103.244706</td>\n",
       "      <td>OG</td>\n",
       "      <td>A</td>\n",
       "      <td>117768.0</td>\n",
       "      <td>2012-07-25</td>\n",
       "    </tr>\n",
       "    <tr>\n",
       "      <th>2</th>\n",
       "      <td>2</td>\n",
       "      <td>33007016390000</td>\n",
       "      <td>7942</td>\n",
       "      <td>23</td>\n",
       "      <td>5</td>\n",
       "      <td>1000</td>\n",
       "      <td>250</td>\n",
       "      <td>4</td>\n",
       "      <td>4</td>\n",
       "      <td>0</td>\n",
       "      <td>...</td>\n",
       "      <td>2100 FSL  1980 FEL</td>\n",
       "      <td>WILDCAT</td>\n",
       "      <td>TYLER</td>\n",
       "      <td>VERTICAL</td>\n",
       "      <td>46.736696</td>\n",
       "      <td>-103.553665</td>\n",
       "      <td>OG</td>\n",
       "      <td>A</td>\n",
       "      <td>118216.0</td>\n",
       "      <td>2011-10-23</td>\n",
       "    </tr>\n",
       "    <tr>\n",
       "      <th>3</th>\n",
       "      <td>3</td>\n",
       "      <td>33007016410000</td>\n",
       "      <td>20457</td>\n",
       "      <td>48944</td>\n",
       "      <td>5</td>\n",
       "      <td>2055648</td>\n",
       "      <td>214</td>\n",
       "      <td>9572</td>\n",
       "      <td>9572</td>\n",
       "      <td>8968</td>\n",
       "      <td>...</td>\n",
       "      <td>505 FSL  541 FEL</td>\n",
       "      <td>BIG STICK</td>\n",
       "      <td>BAKKEN</td>\n",
       "      <td>HORIZONTAL</td>\n",
       "      <td>47.111642</td>\n",
       "      <td>-103.415385</td>\n",
       "      <td>OG</td>\n",
       "      <td>A</td>\n",
       "      <td>118502.0</td>\n",
       "      <td>2010-11-11</td>\n",
       "    </tr>\n",
       "    <tr>\n",
       "      <th>4</th>\n",
       "      <td>4</td>\n",
       "      <td>33007016440000</td>\n",
       "      <td>9338</td>\n",
       "      <td>59</td>\n",
       "      <td>0</td>\n",
       "      <td>2500</td>\n",
       "      <td>39</td>\n",
       "      <td>64</td>\n",
       "      <td>64</td>\n",
       "      <td>0</td>\n",
       "      <td>...</td>\n",
       "      <td>990 FSL  640 FEL</td>\n",
       "      <td>BIG STICK</td>\n",
       "      <td>MADISON</td>\n",
       "      <td>VERTICAL</td>\n",
       "      <td>47.069474</td>\n",
       "      <td>-103.415609</td>\n",
       "      <td>OG</td>\n",
       "      <td>A</td>\n",
       "      <td>406270.0</td>\n",
       "      <td>2010-08-18</td>\n",
       "    </tr>\n",
       "    <tr>\n",
       "      <th>...</th>\n",
       "      <td>...</td>\n",
       "      <td>...</td>\n",
       "      <td>...</td>\n",
       "      <td>...</td>\n",
       "      <td>...</td>\n",
       "      <td>...</td>\n",
       "      <td>...</td>\n",
       "      <td>...</td>\n",
       "      <td>...</td>\n",
       "      <td>...</td>\n",
       "      <td>...</td>\n",
       "      <td>...</td>\n",
       "      <td>...</td>\n",
       "      <td>...</td>\n",
       "      <td>...</td>\n",
       "      <td>...</td>\n",
       "      <td>...</td>\n",
       "      <td>...</td>\n",
       "      <td>...</td>\n",
       "      <td>...</td>\n",
       "      <td>...</td>\n",
       "    </tr>\n",
       "    <tr>\n",
       "      <th>5841</th>\n",
       "      <td>5841</td>\n",
       "      <td>33105022070000</td>\n",
       "      <td>19357</td>\n",
       "      <td>66738</td>\n",
       "      <td>12</td>\n",
       "      <td>2802996</td>\n",
       "      <td>510</td>\n",
       "      <td>312</td>\n",
       "      <td>11497</td>\n",
       "      <td>9486</td>\n",
       "      <td>...</td>\n",
       "      <td>1100 FNL  300 FWL</td>\n",
       "      <td>TRUAX</td>\n",
       "      <td>BAKKEN</td>\n",
       "      <td>HORIZONTAL</td>\n",
       "      <td>48.108048</td>\n",
       "      <td>-103.343890</td>\n",
       "      <td>OG</td>\n",
       "      <td>A</td>\n",
       "      <td>120857.0</td>\n",
       "      <td>2012-01-28</td>\n",
       "    </tr>\n",
       "    <tr>\n",
       "      <th>5842</th>\n",
       "      <td>5842</td>\n",
       "      <td>33105022840000</td>\n",
       "      <td>21123</td>\n",
       "      <td>73233</td>\n",
       "      <td>17</td>\n",
       "      <td>3075786</td>\n",
       "      <td>753</td>\n",
       "      <td>279</td>\n",
       "      <td>10083</td>\n",
       "      <td>9341</td>\n",
       "      <td>...</td>\n",
       "      <td>350 FNL  1715 FEL</td>\n",
       "      <td>WILLISTON</td>\n",
       "      <td>BAKKEN</td>\n",
       "      <td>HORIZONTAL</td>\n",
       "      <td>48.196664</td>\n",
       "      <td>-103.567636</td>\n",
       "      <td>OG</td>\n",
       "      <td>A</td>\n",
       "      <td>121146.0</td>\n",
       "      <td>2011-12-02</td>\n",
       "    </tr>\n",
       "    <tr>\n",
       "      <th>5843</th>\n",
       "      <td>5843</td>\n",
       "      <td>33105024670000</td>\n",
       "      <td>19260</td>\n",
       "      <td>52566</td>\n",
       "      <td>5</td>\n",
       "      <td>2207772</td>\n",
       "      <td>251</td>\n",
       "      <td>313</td>\n",
       "      <td>18297</td>\n",
       "      <td>8000</td>\n",
       "      <td>...</td>\n",
       "      <td>331 FNL  2030 FWL</td>\n",
       "      <td>STRANDAHL</td>\n",
       "      <td>BAKKEN</td>\n",
       "      <td>HORIZONTAL</td>\n",
       "      <td>48.459011</td>\n",
       "      <td>-103.876229</td>\n",
       "      <td>OG</td>\n",
       "      <td>A</td>\n",
       "      <td>122001.0</td>\n",
       "      <td>2012-06-21</td>\n",
       "    </tr>\n",
       "    <tr>\n",
       "      <th>5844</th>\n",
       "      <td>5844</td>\n",
       "      <td>33105024800000</td>\n",
       "      <td>20761</td>\n",
       "      <td>89045</td>\n",
       "      <td>21</td>\n",
       "      <td>3739890</td>\n",
       "      <td>911</td>\n",
       "      <td>286</td>\n",
       "      <td>8700</td>\n",
       "      <td>9906</td>\n",
       "      <td>...</td>\n",
       "      <td>2050 FNL  270 FWL</td>\n",
       "      <td>TRUAX</td>\n",
       "      <td>BAKKEN</td>\n",
       "      <td>HORIZONTAL</td>\n",
       "      <td>48.090853</td>\n",
       "      <td>-103.279816</td>\n",
       "      <td>OG</td>\n",
       "      <td>A</td>\n",
       "      <td>122074.0</td>\n",
       "      <td>2013-06-06</td>\n",
       "    </tr>\n",
       "    <tr>\n",
       "      <th>5845</th>\n",
       "      <td>5845</td>\n",
       "      <td>33105025590000</td>\n",
       "      <td>19305</td>\n",
       "      <td>56351</td>\n",
       "      <td>6</td>\n",
       "      <td>2366742</td>\n",
       "      <td>276</td>\n",
       "      <td>292</td>\n",
       "      <td>9197</td>\n",
       "      <td>8218</td>\n",
       "      <td>...</td>\n",
       "      <td>340 FSL  1992 FEL</td>\n",
       "      <td>CLIMAX</td>\n",
       "      <td>BAKKEN</td>\n",
       "      <td>HORIZONTAL</td>\n",
       "      <td>48.518708</td>\n",
       "      <td>-103.871025</td>\n",
       "      <td>OG</td>\n",
       "      <td>A</td>\n",
       "      <td>122545.0</td>\n",
       "      <td>2012-06-08</td>\n",
       "    </tr>\n",
       "  </tbody>\n",
       "</table>\n",
       "<p>5846 rows × 43 columns</p>\n",
       "</div>"
      ],
      "text/plain": [
       "      Unnamed: 0             api  bottom  fluid_bbl  fluid_bbl_per_ft  \\\n",
       "0              0  33007015830000    9441         47                 1   \n",
       "1              1  33007016320000   20810      57661                 6   \n",
       "2              2  33007016390000    7942         23                 5   \n",
       "3              3  33007016410000   20457      48944                 5   \n",
       "4              4  33007016440000    9338         59                 0   \n",
       "...          ...             ...     ...        ...               ...   \n",
       "5841        5841  33105022070000   19357      66738                12   \n",
       "5842        5842  33105022840000   21123      73233                17   \n",
       "5843        5843  33105024670000   19260      52566                 5   \n",
       "5844        5844  33105024800000   20761      89045                21   \n",
       "5845        5845  33105025590000   19305      56351                 6   \n",
       "\n",
       "      fluid_gal  fluid_gal_per_ft  ft_per_stage  lateral_length  \\\n",
       "0          1998                46            43              43   \n",
       "1       2421762               252           319            9586   \n",
       "2          1000               250             4               4   \n",
       "3       2055648               214          9572            9572   \n",
       "4          2500                39            64              64   \n",
       "...         ...               ...           ...             ...   \n",
       "5841    2802996               510           312           11497   \n",
       "5842    3075786               753           279           10083   \n",
       "5843    2207772               251           313           18297   \n",
       "5844    3739890               911           286            8700   \n",
       "5845    2366742               276           292            9197   \n",
       "\n",
       "      max_treat_press  ...            Footages     Field_Name  Produced_Pools  \\\n",
       "0                   0  ...   906 FSL  1197 FEL      BIG STICK         MADISON   \n",
       "1                8461  ...   2400 FSL  300 FEL  ST. DEMETRIUS          BAKKEN   \n",
       "2                   0  ...  2100 FSL  1980 FEL        WILDCAT           TYLER   \n",
       "3                8968  ...    505 FSL  541 FEL      BIG STICK          BAKKEN   \n",
       "4                   0  ...    990 FSL  640 FEL      BIG STICK         MADISON   \n",
       "...               ...  ...                 ...            ...             ...   \n",
       "5841             9486  ...   1100 FNL  300 FWL          TRUAX          BAKKEN   \n",
       "5842             9341  ...   350 FNL  1715 FEL      WILLISTON          BAKKEN   \n",
       "5843             8000  ...   331 FNL  2030 FWL      STRANDAHL          BAKKEN   \n",
       "5844             9906  ...   2050 FNL  270 FWL          TRUAX          BAKKEN   \n",
       "5845             8218  ...   340 FSL  1992 FEL         CLIMAX          BAKKEN   \n",
       "\n",
       "         Wellbore   Latitude   Longitude  Well_Type  Well_Status       CTB  \\\n",
       "0     DIRECTIONAL  47.112737 -103.418030         OG            A  406270.0   \n",
       "1      HORIZONTAL  47.088015 -103.244706         OG            A  117768.0   \n",
       "2        VERTICAL  46.736696 -103.553665         OG            A  118216.0   \n",
       "3      HORIZONTAL  47.111642 -103.415385         OG            A  118502.0   \n",
       "4        VERTICAL  47.069474 -103.415609         OG            A  406270.0   \n",
       "...           ...        ...         ...        ...          ...       ...   \n",
       "5841   HORIZONTAL  48.108048 -103.343890         OG            A  120857.0   \n",
       "5842   HORIZONTAL  48.196664 -103.567636         OG            A  121146.0   \n",
       "5843   HORIZONTAL  48.459011 -103.876229         OG            A  122001.0   \n",
       "5844   HORIZONTAL  48.090853 -103.279816         OG            A  122074.0   \n",
       "5845   HORIZONTAL  48.518708 -103.871025         OG            A  122545.0   \n",
       "\n",
       "      Well_Status_Date  \n",
       "0           2010-05-26  \n",
       "1           2012-07-25  \n",
       "2           2011-10-23  \n",
       "3           2010-11-11  \n",
       "4           2010-08-18  \n",
       "...                ...  \n",
       "5841        2012-01-28  \n",
       "5842        2011-12-02  \n",
       "5843        2012-06-21  \n",
       "5844        2013-06-06  \n",
       "5845        2012-06-08  \n",
       "\n",
       "[5846 rows x 43 columns]"
      ]
     },
     "execution_count": 5,
     "metadata": {},
     "output_type": "execute_result"
    }
   ],
   "source": [
    "#Loading cleaned dataset with features and production metric\n",
    "df_ml = pd.read_csv('..\\Step 1. Data Wrangling\\DataWrangling_clean_dataset.csv')\n",
    "df_ml"
   ]
  },
  {
   "cell_type": "code",
   "execution_count": 6,
   "metadata": {
    "scrolled": true
   },
   "outputs": [
    {
     "data": {
      "text/plain": [
       "Index(['Unnamed: 0', 'api', 'bottom', 'fluid_bbl', 'fluid_bbl_per_ft',\n",
       "       'fluid_gal', 'fluid_gal_per_ft', 'ft_per_stage', 'lateral_length',\n",
       "       'max_treat_press', 'max_treat_rate', 'propp_lbs', 'propp_lbs_per_ft',\n",
       "       'stages', 'top', 'treatment_date', 'number_treatments', 'interval',\n",
       "       'cum_oil_365', 'file_no', 'Current_Operator', 'Current_Well_Name',\n",
       "       'Lease_Name', 'Lease_Number', 'Original_Operator', 'Original_Well_Name',\n",
       "       'Spud_Date', 'TD', 'County_Name', 'Township', 'Range', 'Section', 'QQ',\n",
       "       'Footages', 'Field_Name', 'Produced_Pools', 'Wellbore', 'Latitude',\n",
       "       'Longitude', 'Well_Type', 'Well_Status', 'CTB', 'Well_Status_Date'],\n",
       "      dtype='object')"
      ]
     },
     "execution_count": 6,
     "metadata": {},
     "output_type": "execute_result"
    }
   ],
   "source": [
    "df_ml.keys()"
   ]
  },
  {
   "cell_type": "code",
   "execution_count": 7,
   "metadata": {},
   "outputs": [
    {
     "data": {
      "text/html": [
       "<div>\n",
       "<style scoped>\n",
       "    .dataframe tbody tr th:only-of-type {\n",
       "        vertical-align: middle;\n",
       "    }\n",
       "\n",
       "    .dataframe tbody tr th {\n",
       "        vertical-align: top;\n",
       "    }\n",
       "\n",
       "    .dataframe thead th {\n",
       "        text-align: right;\n",
       "    }\n",
       "</style>\n",
       "<table border=\"1\" class=\"dataframe\">\n",
       "  <thead>\n",
       "    <tr style=\"text-align: right;\">\n",
       "      <th></th>\n",
       "      <th>api</th>\n",
       "      <th>TreatDays</th>\n",
       "      <th>cum_oil_365</th>\n",
       "    </tr>\n",
       "  </thead>\n",
       "  <tbody>\n",
       "    <tr>\n",
       "      <th>0</th>\n",
       "      <td>33007015830000</td>\n",
       "      <td>11</td>\n",
       "      <td>28758.0</td>\n",
       "    </tr>\n",
       "    <tr>\n",
       "      <th>1</th>\n",
       "      <td>33007016320000</td>\n",
       "      <td>18</td>\n",
       "      <td>19649.0</td>\n",
       "    </tr>\n",
       "    <tr>\n",
       "      <th>2</th>\n",
       "      <td>33007016380000</td>\n",
       "      <td>-3</td>\n",
       "      <td>39719.0</td>\n",
       "    </tr>\n",
       "    <tr>\n",
       "      <th>3</th>\n",
       "      <td>33007016390000</td>\n",
       "      <td>-175</td>\n",
       "      <td>10203.0</td>\n",
       "    </tr>\n",
       "    <tr>\n",
       "      <th>4</th>\n",
       "      <td>33007016410000</td>\n",
       "      <td>0</td>\n",
       "      <td>33166.0</td>\n",
       "    </tr>\n",
       "    <tr>\n",
       "      <th>...</th>\n",
       "      <td>...</td>\n",
       "      <td>...</td>\n",
       "      <td>...</td>\n",
       "    </tr>\n",
       "    <tr>\n",
       "      <th>5841</th>\n",
       "      <td>33105031490000</td>\n",
       "      <td>0</td>\n",
       "      <td>49423.0</td>\n",
       "    </tr>\n",
       "    <tr>\n",
       "      <th>5842</th>\n",
       "      <td>33105031600000</td>\n",
       "      <td>19</td>\n",
       "      <td>95125.0</td>\n",
       "    </tr>\n",
       "    <tr>\n",
       "      <th>5843</th>\n",
       "      <td>33105031610000</td>\n",
       "      <td>-1</td>\n",
       "      <td>53310.0</td>\n",
       "    </tr>\n",
       "    <tr>\n",
       "      <th>5844</th>\n",
       "      <td>33105031620000</td>\n",
       "      <td>-25</td>\n",
       "      <td>89055.0</td>\n",
       "    </tr>\n",
       "    <tr>\n",
       "      <th>5845</th>\n",
       "      <td>33105031650000</td>\n",
       "      <td>-7</td>\n",
       "      <td>194016.0</td>\n",
       "    </tr>\n",
       "  </tbody>\n",
       "</table>\n",
       "<p>5846 rows × 3 columns</p>\n",
       "</div>"
      ],
      "text/plain": [
       "                 api  TreatDays  cum_oil_365\n",
       "0     33007015830000         11      28758.0\n",
       "1     33007016320000         18      19649.0\n",
       "2     33007016380000         -3      39719.0\n",
       "3     33007016390000       -175      10203.0\n",
       "4     33007016410000          0      33166.0\n",
       "...              ...        ...          ...\n",
       "5841  33105031490000          0      49423.0\n",
       "5842  33105031600000         19      95125.0\n",
       "5843  33105031610000         -1      53310.0\n",
       "5844  33105031620000        -25      89055.0\n",
       "5845  33105031650000         -7     194016.0\n",
       "\n",
       "[5846 rows x 3 columns]"
      ]
     },
     "execution_count": 7,
     "metadata": {},
     "output_type": "execute_result"
    }
   ],
   "source": [
    "#Dataframe with days before treatment and production metric\n",
    "df_min = df[['API','RPT_DATE','Dt_Treat']]\n",
    "df_min = df_min.groupby('API').agg('min')\n",
    "df_min['TreatDays']=df_min['Dt_Treat']-df_min['RPT_DATE']\n",
    "df_min.reset_index()\n",
    "#df_min[df_min.index==33007016320000]\n",
    "df_min=df_min.merge(df_ml, left_on='API', right_on='api')[['api','TreatDays','cum_oil_365']]\n",
    "df_min['TreatDays']=[i.days for i in df_min['TreatDays']]\n",
    "df_min"
   ]
  },
  {
   "cell_type": "code",
   "execution_count": 8,
   "metadata": {},
   "outputs": [
    {
     "data": {
      "text/plain": [
       "(-200, 200)"
      ]
     },
     "execution_count": 8,
     "metadata": {},
     "output_type": "execute_result"
    },
    {
     "data": {
      "image/png": "[encoded data removed]",
      "text/plain": [
       "<Figure size 432x288 with 1 Axes>"
      ]
     },
     "metadata": {
      "needs_background": "light"
     },
     "output_type": "display_data"
    }
   ],
   "source": [
    "sns.distplot(df_min['TreatDays'],bins=500)\n",
    "#ax.set_yscale('log')\n",
    "plt.xlim((-200,200))"
   ]
  },
  {
   "cell_type": "code",
   "execution_count": 22,
   "metadata": {},
   "outputs": [
    {
     "name": "stderr",
     "output_type": "stream",
     "text": [
      "C:\\Users\\olyab\\Anaconda3\\lib\\site-packages\\ipykernel_launcher.py:3: MatplotlibDeprecationWarning: \n",
      "The 'normed' kwarg was deprecated in Matplotlib 2.1 and will be removed in 3.1. Use 'density' instead.\n",
      "  This is separate from the ipykernel package so we can avoid doing imports until\n"
     ]
    },
    {
     "data": {
      "image/png": "[encoded data removed]",
      "text/plain": [
       "<Figure size 432x288 with 1 Axes>"
      ]
     },
     "metadata": {
      "needs_background": "light"
     },
     "output_type": "display_data"
    }
   ],
   "source": [
    "mean_treat_days_bs = draw_bs_reps(df_min['TreatDays'], np.mean, size=1000)\n",
    "# Make a histogram of the results\n",
    "_ = plt.hist(mean_treat_days_bs, bins=50,normed=True)\n",
    "_ = plt.xlabel('bootstrap estimation of mean of treatment days')\n",
    "_ = plt.vlines(np.mean(df_min['TreatDays']),0,0.8)\n",
    "_ = plt.ylabel('PDF')\n",
    "\n",
    "# Show the plot\n",
    "plt.show()"
   ]
  },
  {
   "cell_type": "code",
   "execution_count": 9,
   "metadata": {},
   "outputs": [
    {
     "data": {
      "text/plain": [
       "<matplotlib.axes._subplots.AxesSubplot at 0x262172229c8>"
      ]
     },
     "execution_count": 9,
     "metadata": {},
     "output_type": "execute_result"
    },
    {
     "data": {
      "image/png": "[encoded data removed]",
      "text/plain": [
       "<Figure size 432x288 with 1 Axes>"
      ]
     },
     "metadata": {
      "needs_background": "light"
     },
     "output_type": "display_data"
    }
   ],
   "source": [
    "sns.distplot(df_min['cum_oil_365'],bins=500)\n",
    "#ax.set_yscale('log')\n",
    "#plt.xlim((-200,200))"
   ]
  },
  {
   "cell_type": "code",
   "execution_count": 25,
   "metadata": {},
   "outputs": [
    {
     "name": "stderr",
     "output_type": "stream",
     "text": [
      "C:\\Users\\olyab\\Anaconda3\\lib\\site-packages\\ipykernel_launcher.py:3: MatplotlibDeprecationWarning: \n",
      "The 'normed' kwarg was deprecated in Matplotlib 2.1 and will be removed in 3.1. Use 'density' instead.\n",
      "  This is separate from the ipykernel package so we can avoid doing imports until\n"
     ]
    },
    {
     "data": {
      "image/png": "[encoded data removed]",
      "text/plain": [
       "<Figure size 432x288 with 1 Axes>"
      ]
     },
     "metadata": {
      "needs_background": "light"
     },
     "output_type": "display_data"
    }
   ],
   "source": [
    "mean_cum_oil_365_bs = draw_bs_reps(df_min['cum_oil_365'], np.mean, size=1000)\n",
    "# Make a histogram of the results\n",
    "_ = plt.hist(mean_cum_oil_365_bs, bins=50,normed=True)\n",
    "_ = plt.xlabel('bootstrap estimation of cumulative oil')\n",
    "_ = plt.vlines(np.mean(df_min['cum_oil_365']),0,0.0008)\n",
    "_ = plt.ylabel('PDF')\n",
    "\n",
    "# Show the plot\n",
    "plt.show()"
   ]
  },
  {
   "cell_type": "code",
   "execution_count": 10,
   "metadata": {},
   "outputs": [],
   "source": [
    "a, b = np.polyfit(df_min['TreatDays'],df_min['cum_oil_365'],1)\n",
    "# Make theoretical line to plot\n",
    "x = np.array([-200,200])\n",
    "y = a * x + b"
   ]
  },
  {
   "cell_type": "code",
   "execution_count": 11,
   "metadata": {
    "scrolled": true
   },
   "outputs": [
    {
     "data": {
      "text/plain": [
       "(-250, 250)"
      ]
     },
     "execution_count": 11,
     "metadata": {},
     "output_type": "execute_result"
    },
    {
     "data": {
      "image/png": "[encoded data removed]",
      "text/plain": [
       "<Figure size 432x288 with 1 Axes>"
      ]
     },
     "metadata": {
      "needs_background": "light"
     },
     "output_type": "display_data"
    }
   ],
   "source": [
    "sns.scatterplot(data=df_min,x='TreatDays',y='cum_oil_365')\n",
    "plt.plot(x, y)\n",
    "plt.xlim(-250,250)"
   ]
  },
  {
   "cell_type": "code",
   "execution_count": 27,
   "metadata": {},
   "outputs": [
    {
     "name": "stdout",
     "output_type": "stream",
     "text": [
      "[ 3.84742396 67.76751437]\n"
     ]
    },
    {
     "name": "stderr",
     "output_type": "stream",
     "text": [
      "C:\\Users\\olyab\\Anaconda3\\lib\\site-packages\\ipykernel_launcher.py:8: MatplotlibDeprecationWarning: \n",
      "The 'normed' kwarg was deprecated in Matplotlib 2.1 and will be removed in 3.1. Use 'density' instead.\n",
      "  \n"
     ]
    },
    {
     "data": {
      "image/png": "[encoded data removed]",
      "text/plain": [
       "<Figure size 432x288 with 1 Axes>"
      ]
     },
     "metadata": {
      "needs_background": "light"
     },
     "output_type": "display_data"
    }
   ],
   "source": [
    "# Generate replicates of slope and intercept using pairs bootstrap\n",
    "bs_slope_reps, bs_intercept_reps = draw_bs_pairs_linreg(df_min['TreatDays'],df_min['cum_oil_365'],1000)\n",
    "\n",
    "# Compute and print 95% CI for slope\n",
    "print(np.percentile(bs_slope_reps,[2.5, 97.5]))\n",
    "\n",
    "# Plot the histogram\n",
    "_ = plt.hist(bs_slope_reps, bins=50, normed=True)\n",
    "_ = plt.xlabel('slope')\n",
    "_ = plt.ylabel('PDF')\n",
    "plt.show()"
   ]
  },
  {
   "cell_type": "code",
   "execution_count": 29,
   "metadata": {},
   "outputs": [
    {
     "data": {
      "image/png": "[encoded data removed]",
      "text/plain": [
       "<Figure size 432x288 with 1 Axes>"
      ]
     },
     "metadata": {
      "needs_background": "light"
     },
     "output_type": "display_data"
    }
   ],
   "source": [
    "# Generate array of x-values for bootstrap lines: x\n",
    "x = np.array([-200,200])\n",
    "\n",
    "# Plot the bootstrap lines\n",
    "for i in range(1000):\n",
    "    _ = plt.plot(x, \n",
    "                 bs_slope_reps[i]*x + bs_intercept_reps[i],\n",
    "                 linewidth=0.5, alpha=0.2, color='red')\n",
    "\n",
    "# Plot the data\n",
    "sns.scatterplot(data=df_min,x='TreatDays',y='cum_oil_365')\n",
    "\n",
    "# Label axes, set the margins, and show the plot\n",
    "_ = plt.xlabel('TreatDays')\n",
    "_ = plt.ylabel('cum_oil_365')\n",
    "plt.xlim((-200,200))\n",
    "plt.margins(0.02)\n",
    "plt.show()"
   ]
  },
  {
   "cell_type": "code",
   "execution_count": 33,
   "metadata": {},
   "outputs": [
    {
     "data": {
      "text/plain": [
       "(0.028858143871844592, 0.0273520522889145)"
      ]
     },
     "execution_count": 33,
     "metadata": {},
     "output_type": "execute_result"
    }
   ],
   "source": [
    "r_obs = pearsonr(df_min['TreatDays'],df_min['cum_oil_365'])\n",
    "r_obs"
   ]
  },
  {
   "cell_type": "code",
   "execution_count": 41,
   "metadata": {},
   "outputs": [],
   "source": [
    "# Initialize permutation replicates: perm_replicates\n",
    "perm_replicates = []\n",
    "\n",
    "# Draw replicates\n",
    "for i in range(1000):\n",
    "    # Permute illiteracy measurments: illiteracy_permuted\n",
    "    cum_oil_permuted = np.random.permutation(df_min['cum_oil_365'])\n",
    "\n",
    "    # Compute Pearson correlation\n",
    "    perm_replicates.append(pearsonr(df_min['TreatDays'],cum_oil_permuted)[0])"
   ]
  },
  {
   "cell_type": "code",
   "execution_count": 51,
   "metadata": {},
   "outputs": [
    {
     "data": {
      "text/plain": [
       "array([-0.02552324,  0.02479974])"
      ]
     },
     "execution_count": 51,
     "metadata": {},
     "output_type": "execute_result"
    }
   ],
   "source": [
    "# Compute the 95% confidence interval: conf_int\n",
    "conf_int = np.percentile(perm_replicates,[2.5,97.5])\n",
    "conf_int"
   ]
  },
  {
   "cell_type": "code",
   "execution_count": 58,
   "metadata": {},
   "outputs": [
    {
     "name": "stderr",
     "output_type": "stream",
     "text": [
      "C:\\Users\\olyab\\Anaconda3\\lib\\site-packages\\ipykernel_launcher.py:2: MatplotlibDeprecationWarning: \n",
      "The 'normed' kwarg was deprecated in Matplotlib 2.1 and will be removed in 3.1. Use 'density' instead.\n",
      "  \n"
     ]
    },
    {
     "data": {
      "image/png": "[encoded data removed]",
      "text/plain": [
       "<Figure size 432x288 with 1 Axes>"
      ]
     },
     "metadata": {
      "needs_background": "light"
     },
     "output_type": "display_data"
    }
   ],
   "source": [
    "# Plot the histogram\n",
    "_ = plt.hist(perm_replicates, bins=50, normed=True)\n",
    "_ = plt.xlabel('Pearson correlation')\n",
    "_ = plt.vlines(r_obs[0],0,40)\n",
    "_ = plt.vlines(conf_int[0],0,40,'r')\n",
    "_ = plt.vlines(conf_int[1],0,40,'r')\n",
    "_ = plt.ylabel('PDF')\n",
    "plt.show()"
   ]
  },
  {
   "cell_type": "code",
   "execution_count": 47,
   "metadata": {},
   "outputs": [
    {
     "name": "stdout",
     "output_type": "stream",
     "text": [
      "p-val = 0.012\n"
     ]
    }
   ],
   "source": [
    "# Compute p-value: p\n",
    "p = np.sum(perm_replicates>=r_obs[0])/len(perm_replicates)\n",
    "print('p-val =', p)"
   ]
  },
  {
   "cell_type": "code",
   "execution_count": null,
   "metadata": {},
   "outputs": [],
   "source": [
    "Our hypothesis "
   ]
  }
 ],
 "metadata": {
  "kernelspec": {
   "display_name": "Python 3",
   "language": "python",
   "name": "python3"
  },
  "language_info": {
   "codemirror_mode": {
    "name": "ipython",
    "version": 3
   },
   "file_extension": ".py",
   "mimetype": "text/x-python",
   "name": "python",
   "nbconvert_exporter": "python",
   "pygments_lexer": "ipython3",
   "version": "3.7.6"
  }
 },
 "nbformat": 4,
 "nbformat_minor": 4
}
