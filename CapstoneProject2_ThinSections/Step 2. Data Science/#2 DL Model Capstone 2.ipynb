{
 "cells": [
  {
   "cell_type": "code",
   "execution_count": null,
   "metadata": {
    "colab": {},
    "colab_type": "code",
    "executionInfo": {
     "elapsed": 2236,
     "status": "ok",
     "timestamp": 1597292976478,
     "user": {
      "displayName": "Olya Brusova",
      "photoUrl": "https://lh3.googleusercontent.com/a-/AOh14GgrItOWJJecXLHfOXNjMvw5MwMB464bq0bKaIxdHPI=s64",
      "userId": "07885590448211210823"
     },
     "user_tz": 300
    },
    "id": "AF6wD57W70QD"
   },
   "outputs": [],
   "source": [
    "%matplotlib inline\n",
    "import matplotlib.pyplot as plt\n",
    "import pandas as pd\n",
    "import numpy as np\n",
    "from PIL import Image\n",
    "from sklearn.model_selection import train_test_split\n",
    "from keras import Model\n",
    "from keras.layers import Input, Conv2D, Activation, BatchNormalization, MaxPooling2D, Flatten, Dense, Dropout\n",
    "from keras.optimizers import Adam\n",
    "from ipywidgets import interact\n",
    "import ipywidgets as widgets"
   ]
  },
  {
   "cell_type": "code",
   "execution_count": null,
   "metadata": {
    "colab": {
     "base_uri": "https://localhost:8080/",
     "height": 191
    },
    "colab_type": "code",
    "executionInfo": {
     "elapsed": 1082,
     "status": "ok",
     "timestamp": 1597293003273,
     "user": {
      "displayName": "Olya Brusova",
      "photoUrl": "https://lh3.googleusercontent.com/a-/AOh14GgrItOWJJecXLHfOXNjMvw5MwMB464bq0bKaIxdHPI=s64",
      "userId": "07885590448211210823"
     },
     "user_tz": 300
    },
    "id": "wJSPLuvm9lSE",
    "outputId": "e346b07a-0afc-4ff6-e74d-67bf0dbd7451"
   },
   "outputs": [],
   "source": [
    "ls"
   ]
  },
  {
   "cell_type": "code",
   "execution_count": null,
   "metadata": {},
   "outputs": [],
   "source": [
    "dir_path = 'Step 1. Data Wrangling/'"
   ]
  },
  {
   "cell_type": "code",
   "execution_count": null,
   "metadata": {
    "colab": {
     "base_uri": "https://localhost:8080/",
     "height": 415
    },
    "colab_type": "code",
    "executionInfo": {
     "elapsed": 411,
     "status": "ok",
     "timestamp": 1597293004245,
     "user": {
      "displayName": "Olya Brusova",
      "photoUrl": "https://lh3.googleusercontent.com/a-/AOh14GgrItOWJJecXLHfOXNjMvw5MwMB464bq0bKaIxdHPI=s64",
      "userId": "07885590448211210823"
     },
     "user_tz": 300
    },
    "id": "onlIal-L70QH",
    "outputId": "5fd10e93-5437-4abc-9b23-8b09ad1f28d1"
   },
   "outputs": [],
   "source": [
    "df_wellA = pd.read_csv(dir_path+'DATA_for_DL_Well_A_data.csv')\n",
    "df_wellA"
   ]
  },
  {
   "cell_type": "code",
   "execution_count": null,
   "metadata": {
    "colab": {},
    "colab_type": "code",
    "executionInfo": {
     "elapsed": 30851,
     "status": "ok",
     "timestamp": 1597293035872,
     "user": {
      "displayName": "Olya Brusova",
      "photoUrl": "https://lh3.googleusercontent.com/a-/AOh14GgrItOWJJecXLHfOXNjMvw5MwMB464bq0bKaIxdHPI=s64",
      "userId": "07885590448211210823"
     },
     "user_tz": 300
    },
    "id": "gZbYkauX70QJ"
   },
   "outputs": [],
   "source": [
    "X_dataA=[]\n",
    "y_dataA=[]\n",
    "for ind in df_wellA.index:\n",
    "    y_dataA.append(df_wellA['Porosity, pc'][ind])\n",
    "    im = Image.open((dir_path+df_wellA['File Name'][ind][:-4]).replace('\\\\','/')+'_left.jpg')\n",
    "    X_dataA.append(np.array(im))\n",
    "    #print(ind,df_wellA['Porosity, pc'][ind],df_wellA['File Name'][ind])"
   ]
  },
  {
   "cell_type": "code",
   "execution_count": null,
   "metadata": {
    "colab": {
     "base_uri": "https://localhost:8080/",
     "height": 35
    },
    "colab_type": "code",
    "executionInfo": {
     "elapsed": 29975,
     "status": "ok",
     "timestamp": 1597293035874,
     "user": {
      "displayName": "Olya Brusova",
      "photoUrl": "https://lh3.googleusercontent.com/a-/AOh14GgrItOWJJecXLHfOXNjMvw5MwMB464bq0bKaIxdHPI=s64",
      "userId": "07885590448211210823"
     },
     "user_tz": 300
    },
    "id": "9MngvERT70QL",
    "outputId": "60b7c5a8-bb0f-49aa-ca09-2c5f302b07b7"
   },
   "outputs": [],
   "source": [
    "y_dataA=np.array(y_dataA)/36\n",
    "y_dataA.shape"
   ]
  },
  {
   "cell_type": "code",
   "execution_count": null,
   "metadata": {
    "colab": {
     "base_uri": "https://localhost:8080/",
     "height": 35
    },
    "colab_type": "code",
    "executionInfo": {
     "elapsed": 33260,
     "status": "ok",
     "timestamp": 1597293040030,
     "user": {
      "displayName": "Olya Brusova",
      "photoUrl": "https://lh3.googleusercontent.com/a-/AOh14GgrItOWJJecXLHfOXNjMvw5MwMB464bq0bKaIxdHPI=s64",
      "userId": "07885590448211210823"
     },
     "user_tz": 300
    },
    "id": "_Etlxy-E70QO",
    "outputId": "12b6d7a5-d29a-4a77-bd3b-eb201fefdc32"
   },
   "outputs": [],
   "source": [
    "X_dataA=np.array(X_dataA)/255\n",
    "X_dataA.shape"
   ]
  },
  {
   "cell_type": "code",
   "execution_count": null,
   "metadata": {
    "colab": {
     "base_uri": "https://localhost:8080/",
     "height": 287
    },
    "colab_type": "code",
    "executionInfo": {
     "elapsed": 28459,
     "status": "ok",
     "timestamp": 1597293040588,
     "user": {
      "displayName": "Olya Brusova",
      "photoUrl": "https://lh3.googleusercontent.com/a-/AOh14GgrItOWJJecXLHfOXNjMvw5MwMB464bq0bKaIxdHPI=s64",
      "userId": "07885590448211210823"
     },
     "user_tz": 300
    },
    "id": "MOebWwV570QR",
    "outputId": "89fa6982-8059-4769-db5d-2cb3bf613d2e"
   },
   "outputs": [],
   "source": [
    "plt.imshow(X_dataA[1,:,:,:])"
   ]
  },
  {
   "cell_type": "code",
   "execution_count": null,
   "metadata": {
    "colab": {
     "base_uri": "https://localhost:8080/",
     "height": 287
    },
    "colab_type": "code",
    "executionInfo": {
     "elapsed": 28079,
     "status": "ok",
     "timestamp": 1597293041130,
     "user": {
      "displayName": "Olya Brusova",
      "photoUrl": "https://lh3.googleusercontent.com/a-/AOh14GgrItOWJJecXLHfOXNjMvw5MwMB464bq0bKaIxdHPI=s64",
      "userId": "07885590448211210823"
     },
     "user_tz": 300
    },
    "id": "JdolTbY270QT",
    "outputId": "765005dd-a9c6-47ab-f62f-f9d6518818db"
   },
   "outputs": [],
   "source": [
    "plt.imshow(np.flip(X_dataA,axis=1)[1,:,:,:])"
   ]
  },
  {
   "cell_type": "code",
   "execution_count": null,
   "metadata": {
    "colab": {
     "base_uri": "https://localhost:8080/",
     "height": 287
    },
    "colab_type": "code",
    "executionInfo": {
     "elapsed": 26702,
     "status": "ok",
     "timestamp": 1597293041612,
     "user": {
      "displayName": "Olya Brusova",
      "photoUrl": "https://lh3.googleusercontent.com/a-/AOh14GgrItOWJJecXLHfOXNjMvw5MwMB464bq0bKaIxdHPI=s64",
      "userId": "07885590448211210823"
     },
     "user_tz": 300
    },
    "id": "1Aihtdby70QW",
    "outputId": "0b48a9a0-e758-4758-f79b-a18fdc93511e",
    "scrolled": true
   },
   "outputs": [],
   "source": [
    "plt.imshow(np.flip(X_dataA,axis=2)[1,:,:,:])"
   ]
  },
  {
   "cell_type": "code",
   "execution_count": null,
   "metadata": {
    "colab": {
     "base_uri": "https://localhost:8080/",
     "height": 52
    },
    "colab_type": "code",
    "executionInfo": {
     "elapsed": 14372,
     "status": "ok",
     "timestamp": 1597293058624,
     "user": {
      "displayName": "Olya Brusova",
      "photoUrl": "https://lh3.googleusercontent.com/a-/AOh14GgrItOWJJecXLHfOXNjMvw5MwMB464bq0bKaIxdHPI=s64",
      "userId": "07885590448211210823"
     },
     "user_tz": 300
    },
    "id": "u9g1NxXf70QY",
    "outputId": "25ab2b35-a369-4411-8dca-7cba75eb82b9"
   },
   "outputs": [],
   "source": [
    "X_dataA=np.concatenate((X_dataA,np.flip(X_dataA,axis=1),np.flip(X_dataA,axis=2)),axis=0)\n",
    "y_dataA=np.concatenate((y_dataA,y_dataA,y_dataA),axis=0)\n",
    "print(X_dataA.shape)\n",
    "print(y_dataA.shape)"
   ]
  },
  {
   "cell_type": "code",
   "execution_count": null,
   "metadata": {
    "colab": {},
    "colab_type": "code",
    "id": "y24UHXtfBOMB"
   },
   "outputs": [],
   "source": [
    "def plot_thin_section(item):\n",
    "    \n",
    "    fig, ax = plt.subplots(figsize=(5, 5),frameon=False)\n",
    "    \n",
    "    ax.title.set_text('Porosity # '+str(round(y_dataA[item],2)))\n",
    "    ax.imshow(X_dataA[item,:,:,:])"
   ]
  },
  {
   "cell_type": "code",
   "execution_count": null,
   "metadata": {},
   "outputs": [],
   "source": [
    "sliders_item = widgets.IntSlider(min=0, max=X_dataA.shape[0], step=1, value=0, description='Item # ')\n",
    "interact(plot_thin_section, item=sliders_item)"
   ]
  },
  {
   "cell_type": "code",
   "execution_count": null,
   "metadata": {
    "colab": {
     "base_uri": "https://localhost:8080/",
     "height": 87
    },
    "colab_type": "code",
    "executionInfo": {
     "elapsed": 15298,
     "status": "ok",
     "timestamp": 1597293085195,
     "user": {
      "displayName": "Olya Brusova",
      "photoUrl": "https://lh3.googleusercontent.com/a-/AOh14GgrItOWJJecXLHfOXNjMvw5MwMB464bq0bKaIxdHPI=s64",
      "userId": "07885590448211210823"
     },
     "user_tz": 300
    },
    "id": "m8yK7BGx70Qi",
    "outputId": "54ae20fd-82a2-4989-b6a0-8a73d3071fea"
   },
   "outputs": [],
   "source": [
    "X_train, X_test, y_train, y_test = train_test_split(X_dataA, y_dataA, test_size=0.10, random_state=42)\n",
    "print(X_train.shape)\n",
    "print(X_test.shape)\n",
    "print(y_train.shape)\n",
    "print(y_test.shape)"
   ]
  },
  {
   "cell_type": "code",
   "execution_count": null,
   "metadata": {
    "colab": {},
    "colab_type": "code",
    "executionInfo": {
     "elapsed": 235,
     "status": "ok",
     "timestamp": 1597293089635,
     "user": {
      "displayName": "Olya Brusova",
      "photoUrl": "https://lh3.googleusercontent.com/a-/AOh14GgrItOWJJecXLHfOXNjMvw5MwMB464bq0bKaIxdHPI=s64",
      "userId": "07885590448211210823"
     },
     "user_tz": 300
    },
    "id": "IhMLxM_K70Qk"
   },
   "outputs": [],
   "source": [
    "def create_block(x, number_filters, filter_size=(2,2), pooling_size=(2,2), chanDim = -1):\n",
    "    \n",
    "    x = Conv2D(number_filters, filter_size, padding=\"same\")(x)\n",
    "    x = Activation(\"relu\")(x)\n",
    "    x = BatchNormalization(axis=chanDim)(x)\n",
    "    x = MaxPooling2D(pool_size=pooling_size)(x)\n",
    "    \n",
    "    return x\n",
    "    \n",
    "def create_cnn(input_shape, filters=(16, 32, 64, 128), regress=False):\n",
    "    \n",
    "    # TensorFlow/channels-last ordering\n",
    "    chanDim = -1\n",
    "    \n",
    "    # define the model input\n",
    "    inputs = Input(shape=input_shape)\n",
    "    \n",
    "    b1 = create_block(inputs,32,(3, 3),(3,2))\n",
    "    b2 = create_block(b1,64,(3, 3),(2,2))\n",
    "    b3 = create_block(b2,128,(3, 3),(2,2))\n",
    "    b4 = create_block(b3,256,(3, 3),(2,2))\n",
    "    b5 = create_block(b4,512,(3, 3),(2,2))\n",
    "    b6 = create_block(b5,512,(3, 3),(2,2))\n",
    "    b7 = create_block(b6,512,(3, 3),(2,2))\n",
    "\n",
    "    # flatten the volume, then FC => RELU => BN => DROPOUT\n",
    "    x = Flatten()(b7)\n",
    "    x = Dense(256)(x)\n",
    "    x = Activation(\"relu\")(x)\n",
    "    x = BatchNormalization(axis=chanDim)(x)\n",
    "    x = Dropout(0.5)(x)\n",
    "    \n",
    "    # apply another FC layer, this one to match the number of nodes\n",
    "    # coming out of the MLP\n",
    "    x = Dense(64)(x)\n",
    "    x = Activation(\"relu\")(x)\n",
    "    \n",
    "    # check to see if the regression node should be added\n",
    "    if regress:\n",
    "        x = Dense(1, activation=\"linear\")(x)\n",
    "    # construct the CNN\n",
    "\n",
    "    model = Model(inputs, x)\n",
    "    \n",
    "    # return the CNN\n",
    "    return model"
   ]
  },
  {
   "cell_type": "code",
   "execution_count": null,
   "metadata": {
    "colab": {},
    "colab_type": "code",
    "executionInfo": {
     "elapsed": 725,
     "status": "ok",
     "timestamp": 1597293092159,
     "user": {
      "displayName": "Olya Brusova",
      "photoUrl": "https://lh3.googleusercontent.com/a-/AOh14GgrItOWJJecXLHfOXNjMvw5MwMB464bq0bKaIxdHPI=s64",
      "userId": "07885590448211210823"
     },
     "user_tz": 300
    },
    "id": "-DyIFzIE70Qm"
   },
   "outputs": [],
   "source": [
    "model = create_cnn((X_train.shape[1], X_train.shape[2], 3), regress=True)\n",
    "opt = Adam(lr=1e-3, decay=1e-3 / 200)\n",
    "model.compile(loss=\"mean_absolute_percentage_error\", optimizer=opt)"
   ]
  },
  {
   "cell_type": "code",
   "execution_count": null,
   "metadata": {
    "colab": {
     "base_uri": "https://localhost:8080/",
     "height": 1000
    },
    "colab_type": "code",
    "executionInfo": {
     "elapsed": 189,
     "status": "ok",
     "timestamp": 1597293093731,
     "user": {
      "displayName": "Olya Brusova",
      "photoUrl": "https://lh3.googleusercontent.com/a-/AOh14GgrItOWJJecXLHfOXNjMvw5MwMB464bq0bKaIxdHPI=s64",
      "userId": "07885590448211210823"
     },
     "user_tz": 300
    },
    "id": "7oJnRuqR70Qo",
    "outputId": "ab170573-f3bf-4dc2-d032-4e164f66827f"
   },
   "outputs": [],
   "source": [
    "model.summary()"
   ]
  },
  {
   "cell_type": "code",
   "execution_count": null,
   "metadata": {
    "colab": {
     "base_uri": "https://localhost:8080/",
     "height": 35
    },
    "colab_type": "code",
    "id": "jPOAT6bp70Qq",
    "outputId": "5f2f83db-41ef-4d3e-edcb-391b6c309553"
   },
   "outputs": [],
   "source": [
    "# train the model\n",
    "print(\"[INFO] training model...\")\n",
    "model.fit(X_train, y_train, \n",
    "    validation_data=(X_test, y_test),\n",
    "    epochs=200, batch_size=8)"
   ]
  },
  {
   "cell_type": "code",
   "execution_count": null,
   "metadata": {
    "colab": {},
    "colab_type": "code",
    "id": "QZDp5myK70Qt"
   },
   "outputs": [],
   "source": [
    "from keras.preprocessing.image import ImageDataGenerator\n",
    "\n",
    "datagen = ImageDataGenerator(\n",
    "        rotation_range=40,\n",
    "        width_shift_range=0.2,\n",
    "        height_shift_range=0.2,\n",
    "        rescale=1./255,\n",
    "        shear_range=0.2,\n",
    "        zoom_range=0.2,\n",
    "        horizontal_flip=True,\n",
    "        fill_mode='nearest')"
   ]
  },
  {
   "cell_type": "code",
   "execution_count": null,
   "metadata": {
    "colab": {},
    "colab_type": "code",
    "id": "f3b2XIiu70Qv"
   },
   "outputs": [],
   "source": [
    "preds = model.predict(X_test)\n",
    "# compute the difference between the *predicted* house prices and the\n",
    "# *actual* house prices, then compute the percentage difference and\n",
    "# the absolute percentage difference\n",
    "diff = preds - y_test\n",
    "percentDiff = (diff / testY) * 100\n",
    "absPercentDiff = np.abs(percentDiff)\n",
    "# compute the mean and standard deviation of the absolute percentage\n",
    "# difference\n",
    "mean = np.mean(absPercentDiff)\n",
    "std = np.std(absPercentDiff)"
   ]
  },
  {
   "cell_type": "code",
   "execution_count": null,
   "metadata": {
    "colab": {},
    "colab_type": "code",
    "id": "eirE5J4O70Qw"
   },
   "outputs": [],
   "source": [
    "def create_cnn(input_shape, filters=(16, 32, 64, 128), regress=False):\n",
    "    \n",
    "    # TensorFlow/channels-last ordering\n",
    "    chanDim = -1\n",
    "    \n",
    "    # define the model input\n",
    "    inputs = Input(shape=input_shape)\n",
    "    \n",
    "    # loop over the number of filters\n",
    "    for (i, f) in enumerate(filters):\n",
    "        # if this is the first CONV layer then set the input\n",
    "        # appropriately\n",
    "        if i == 0:\n",
    "            x = inputs\n",
    "        # CONV => RELU => BN => POOL\n",
    "        x = Conv2D(f, (6, 4), padding=\"same\")(x)\n",
    "        x = Activation(\"relu\")(x)\n",
    "        x = BatchNormalization(axis=chanDim)(x)\n",
    "        x = MaxPooling2D(pool_size=(3, 2))(x)\n",
    "\n",
    "    # flatten the volume, then FC => RELU => BN => DROPOUT\n",
    "    x = Flatten()(x)\n",
    "    x = Dense(256)(x)\n",
    "    x = Activation(\"relu\")(x)\n",
    "    x = BatchNormalization(axis=chanDim)(x)\n",
    "    x = Dropout(0.5)(x)\n",
    "    \n",
    "    # apply another FC layer, this one to match the number of nodes\n",
    "    # coming out of the MLP\n",
    "    x = Dense(64)(x)\n",
    "    x = Activation(\"relu\")(x)\n",
    "    \n",
    "    # check to see if the regression node should be added\n",
    "    if regress:\n",
    "        x = Dense(1, activation=\"linear\")(x)\n",
    "    # construct the CNN\n",
    "\n",
    "    model = Model(inputs, x)\n",
    "    \n",
    "    # return the CNN\n",
    "    return model"
   ]
  },
  {
   "cell_type": "code",
   "execution_count": null,
   "metadata": {
    "colab": {},
    "colab_type": "code",
    "id": "dUYNykYl70Qy"
   },
   "outputs": [],
   "source": [
    "1536, 1024"
   ]
  },
  {
   "cell_type": "code",
   "execution_count": null,
   "metadata": {
    "colab": {},
    "colab_type": "code",
    "id": "ny6Zxmcu70Q0"
   },
   "outputs": [],
   "source": [
    "1536, 1024"
   ]
  },
  {
   "cell_type": "code",
   "execution_count": null,
   "metadata": {
    "colab": {},
    "colab_type": "code",
    "id": "6CgkFpSp70Q2"
   },
   "outputs": [],
   "source": [
    "1536, 1024"
   ]
  },
  {
   "cell_type": "code",
   "execution_count": null,
   "metadata": {
    "colab": {
     "base_uri": "https://localhost:8080/",
     "height": 183
    },
    "colab_type": "code",
    "executionInfo": {
     "elapsed": 383,
     "status": "error",
     "timestamp": 1597292946238,
     "user": {
      "displayName": "Olya Brusova",
      "photoUrl": "https://lh3.googleusercontent.com/a-/AOh14GgrItOWJJecXLHfOXNjMvw5MwMB464bq0bKaIxdHPI=s64",
      "userId": "07885590448211210823"
     },
     "user_tz": 300
    },
    "id": "smNeUNzi70Qa",
    "outputId": "cedadb6e-7dc8-4d5c-ccfe-3bf4680c6b5b",
    "scrolled": true
   },
   "outputs": [],
   "source": [
    "df_wellbt2 = pd.read_csv('Step 1. Data Wrangling/DATA_for_DL-Well_bt2_data.csv')\n",
    "df_wellbt2"
   ]
  },
  {
   "cell_type": "code",
   "execution_count": null,
   "metadata": {
    "colab": {},
    "colab_type": "code",
    "id": "OQmg-DSR70Qc"
   },
   "outputs": [],
   "source": [
    "X_databt2=[]\n",
    "y_databt2=[]\n",
    "for ind in df_wellbt2.index:\n",
    "    y_databt2.append(df_wellbt2['Porosity, pc'][ind])\n",
    "    im = Image.open('Step 1. Data Wrangling\\\\'+df_wellbt2['File Name'][ind][:-4]+'_left.jpg')\n",
    "    X_databt2.append(np.array(im))"
   ]
  },
  {
   "cell_type": "code",
   "execution_count": null,
   "metadata": {
    "colab": {},
    "colab_type": "code",
    "id": "Y4cvcdhM70Qe"
   },
   "outputs": [],
   "source": [
    "X_databt2=np.array(X_databt2)/255\n",
    "X_databt2.shape"
   ]
  },
  {
   "cell_type": "code",
   "execution_count": null,
   "metadata": {
    "colab": {},
    "colab_type": "code",
    "id": "clMnNbW470Qg"
   },
   "outputs": [],
   "source": [
    "y_databt2=np.array(y_databt2)/36\n",
    "y_databt2.shape"
   ]
  }
 ],
 "metadata": {
  "accelerator": "TPU",
  "colab": {
   "machine_shape": "hm",
   "name": "#2 DL Model Capstone 2.ipynb",
   "provenance": []
  },
  "kernelspec": {
   "display_name": "Python 3",
   "language": "python",
   "name": "python3"
  },
  "language_info": {
   "codemirror_mode": {
    "name": "ipython",
    "version": 3
   },
   "file_extension": ".py",
   "mimetype": "text/x-python",
   "name": "python",
   "nbconvert_exporter": "python",
   "pygments_lexer": "ipython3",
   "version": "3.7.7"
  }
 },
 "nbformat": 4,
 "nbformat_minor": 1
}
